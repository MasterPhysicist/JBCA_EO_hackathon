{
 "cells": [
  {
   "cell_type": "markdown",
   "metadata": {},
   "source": [
    "# Preprocessing\n",
    "\n",
    "### Not essential for the hacknight!\n",
    "\n",
    "Contains functions used for processing float geotiffs to small array files.\n",
    "\n",
    "Original geotiffs aren't included in repo"
   ]
  },
  {
   "cell_type": "code",
   "execution_count": 9,
   "metadata": {
    "collapsed": true
   },
   "outputs": [],
   "source": [
    "import gdal\n",
    "import os\n",
    "import numpy as np\n",
    "import matplotlib.pyplot as plt\n",
    "import PIL.Image as img"
   ]
  },
  {
   "cell_type": "code",
   "execution_count": 15,
   "metadata": {
    "collapsed": true
   },
   "outputs": [],
   "source": [
    "def readTiff(fp):\n",
    "    im = gdal.Open(fp)\n",
    "    im = im.ReadAsArray()\n",
    "    im = np.swapaxes(im,0,2)\n",
    "    return np.swapaxes(im,0,1)\n",
    "\n",
    "def image_histogram_equalization(image):\n",
    "    \"\"\" Image histogram equlisation\"\"\"\n",
    "    # from http://www.janeriksolem.net/2009/06/histogram-equalization-with-python-and.html\n",
    "\n",
    "    # get image histogram\n",
    "    image_histogram, bins = np.histogram(image.flatten(), 255, normed=False)\n",
    "    cdf = image_histogram.cumsum() # cumulative distribution function\n",
    "    cdf = (255-1) * cdf / cdf[-1] # normalize\n",
    "\n",
    "    # use linear interpolation of cdf to find new pixel values\n",
    "    image_equalized = np.interp(image.flatten(), bins[:-1], cdf)\n",
    "    \n",
    "    return image_equalized.reshape(image.shape).astype('uint8')\n",
    "    \n",
    "def makeRGB(im):\n",
    "    im0 = image_histogram_equalization(im[:,:,0])\n",
    "    im1 = image_histogram_equalization(im[:,:,1])\n",
    "    r = image_histogram_equalization((im[:,:,1]/im[:,:,0]))\n",
    "    rgb = np.dstack((im1,im0,r))\n",
    "    return rgb\n",
    "\n",
    "def convert_to_jpg(fnames,directory):\n",
    "    for name in fnames:\n",
    "        path = os.path.join(directory,name)\n",
    "        nname = os.path.join(directory,name.split('.')[0]+'.jpg')\n",
    "        im = img.fromarray(np.load(path))\n",
    "        im.save(nname)\n",
    "    return 'done'"
   ]
  },
  {
   "cell_type": "code",
   "execution_count": 16,
   "metadata": {
    "collapsed": true
   },
   "outputs": [],
   "source": [
    "root = '../data/'\n",
    "fnames = ['SARim1_16_09_2017.npy',\n",
    "        'SARim2_22_09_2017.npy',\n",
    "        'SARim3_22_10_2017.npy']"
   ]
  },
  {
   "cell_type": "code",
   "execution_count": 17,
   "metadata": {},
   "outputs": [
    {
     "data": {
      "text/plain": [
       "'done'"
      ]
     },
     "execution_count": 17,
     "metadata": {},
     "output_type": "execute_result"
    }
   ],
   "source": [
    "convert_to_jpg(fnames,root)"
   ]
  }
 ],
 "metadata": {
  "kernelspec": {
   "display_name": "Python 3",
   "language": "python",
   "name": "python3"
  },
  "language_info": {
   "codemirror_mode": {
    "name": "ipython",
    "version": 3
   },
   "file_extension": ".py",
   "mimetype": "text/x-python",
   "name": "python",
   "nbconvert_exporter": "python",
   "pygments_lexer": "ipython3",
   "version": "3.6.4"
  }
 },
 "nbformat": 4,
 "nbformat_minor": 2
}
